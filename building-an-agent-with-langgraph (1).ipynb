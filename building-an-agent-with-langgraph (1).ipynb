{
 "cells": [
  {
   "cell_type": "markdown",
   "id": "7774f412",
   "metadata": {
    "id": "b6e13eef3f5d",
    "jp-MarkdownHeadingCollapsed": true,
    "papermill": {
     "duration": 0.008252,
     "end_time": "2025-02-19T15:48:34.726573",
     "exception": false,
     "start_time": "2025-02-19T15:48:34.718321",
     "status": "completed"
    },
    "tags": []
   },
   "source": [
    "##### Copyright 2024 Google LLC."
   ]
  },
  {
   "cell_type": "code",
   "execution_count": 1,
   "id": "acc3112f",
   "metadata": {
    "cellView": "form",
    "execution": {
     "iopub.execute_input": "2025-02-19T15:48:34.743075Z",
     "iopub.status.busy": "2025-02-19T15:48:34.742325Z",
     "iopub.status.idle": "2025-02-19T15:48:34.747345Z",
     "shell.execute_reply": "2025-02-19T15:48:34.746365Z"
    },
    "id": "d6597b11df14",
    "jupyter": {
     "source_hidden": true
    },
    "papermill": {
     "duration": 0.015437,
     "end_time": "2025-02-19T15:48:34.749338",
     "exception": false,
     "start_time": "2025-02-19T15:48:34.733901",
     "status": "completed"
    },
    "tags": []
   },
   "outputs": [],
   "source": [
    "# @title Licensed under the Apache License, Version 2.0 (the \"License\");\n",
    "# you may not use this file except in compliance with the License.\n",
    "# You may obtain a copy of the License at\n",
    "#\n",
    "# https://www.apache.org/licenses/LICENSE-2.0\n",
    "#\n",
    "# Unless required by applicable law or agreed to in writing, software\n",
    "# distributed under the License is distributed on an \"AS IS\" BASIS,\n",
    "# WITHOUT WARRANTIES OR CONDITIONS OF ANY KIND, either express or implied.\n",
    "# See the License for the specific language governing permissions and\n",
    "# limitations under the License."
   ]
  },
  {
   "cell_type": "markdown",
   "id": "56105421",
   "metadata": {
    "id": "KDnGropl9aiH",
    "papermill": {
     "duration": 0.00675,
     "end_time": "2025-02-19T15:48:34.763304",
     "exception": false,
     "start_time": "2025-02-19T15:48:34.756554",
     "status": "completed"
    },
    "tags": []
   },
   "source": [
    "# Building an agent with LangGraph and the Gemini API\n",
    "\n",
    "Welcome back to the Kaggle 5-day Generative AI course!\n",
    "\n",
    "In this notebook, you will use [LangGraph](https://www.langchain.com/langgraph) to define a stateful graph-based application built on top of the Gemini API.\n",
    "\n",
    "You will build a simulated cafe ordering system, called BaristaBot. It will provide a looping chat interface to customers where they can order cafe beverages using natural language, and you will build nodes to represent the cafe's live menu and the \"back room\".\n",
    "\n",
    "## IMPORTANT NOTE\n",
    "\n",
    "The app built in this notebook takes **user input** using a **text box** ([Python's `input`](https://docs.python.org/3/library/functions.html#input)). These are commented-out to ensure that you can use the `Run all` feature without interruption. Keep an eye out for the steps where you need to uncomment the `.invoke(...)` calls in order to interact with the app.\n",
    "\n",
    "If you wish to save a version of this notebook with `Save and Run all`, you will need to **re-comment** the lines you commented-out to ensure that the notebook can run without human input.\n"
   ]
  },
  {
   "cell_type": "markdown",
   "id": "c9686a02",
   "metadata": {
    "id": "aKMOcAKnGBPL",
    "papermill": {
     "duration": 0.006628,
     "end_time": "2025-02-19T15:48:34.776994",
     "exception": false,
     "start_time": "2025-02-19T15:48:34.770366",
     "status": "completed"
    },
    "tags": []
   },
   "source": [
    "## Get set up\n",
    "\n",
    "Start by installing and importing the LangGraph SDK and LangChain support for the Gemini API."
   ]
  },
  {
   "cell_type": "code",
   "execution_count": 2,
   "id": "1de0adf9",
   "metadata": {
    "execution": {
     "iopub.execute_input": "2025-02-19T15:48:34.793554Z",
     "iopub.status.busy": "2025-02-19T15:48:34.793161Z",
     "iopub.status.idle": "2025-02-19T15:48:48.835107Z",
     "shell.execute_reply": "2025-02-19T15:48:48.833862Z"
    },
    "id": "04fZ8d37ifOS",
    "papermill": {
     "duration": 14.052394,
     "end_time": "2025-02-19T15:48:48.837276",
     "exception": false,
     "start_time": "2025-02-19T15:48:34.784882",
     "status": "completed"
    },
    "tags": []
   },
   "outputs": [
    {
     "name": "stdout",
     "output_type": "stream",
     "text": [
      "\u001b[31mERROR: pip's dependency resolver does not currently take into account all the packages that are installed. This behaviour is the source of the following dependency conflicts.\r\n",
      "google-cloud-bigquery 2.34.4 requires packaging<22.0dev,>=14.3, but you have packaging 24.2 which is incompatible.\r\n",
      "jupyterlab 4.2.5 requires jupyter-lsp>=2.0.0, but you have jupyter-lsp 1.5.1 which is incompatible.\r\n",
      "jupyterlab-lsp 5.1.0 requires jupyter-lsp>=2.0.0, but you have jupyter-lsp 1.5.1 which is incompatible.\r\n",
      "kfp 2.5.0 requires google-cloud-storage<3,>=2.2.1, but you have google-cloud-storage 1.44.0 which is incompatible.\r\n",
      "kfp 2.5.0 requires requests-toolbelt<1,>=0.8.0, but you have requests-toolbelt 1.0.0 which is incompatible.\r\n",
      "libpysal 4.9.2 requires shapely>=2.0.1, but you have shapely 1.8.5.post1 which is incompatible.\r\n",
      "thinc 8.3.2 requires numpy<2.1.0,>=2.0.0; python_version >= \"3.9\", but you have numpy 1.26.4 which is incompatible.\r\n",
      "ydata-profiling 4.10.0 requires scipy<1.14,>=1.4.1, but you have scipy 1.14.1 which is incompatible.\u001b[0m\u001b[31m\r\n",
      "\u001b[0mNote: you may need to restart the kernel to use updated packages.\n"
     ]
    }
   ],
   "source": [
    "%pip install -qU 'langgraph==0.2.45' 'langchain-google-genai==2.0.4'"
   ]
  },
  {
   "cell_type": "markdown",
   "id": "8b483395",
   "metadata": {
    "papermill": {
     "duration": 0.006721,
     "end_time": "2025-02-19T15:48:48.851271",
     "exception": false,
     "start_time": "2025-02-19T15:48:48.844550",
     "status": "completed"
    },
    "tags": []
   },
   "source": [
    "You may see output containing `ERROR: pip's dependency resolver does not currently take into account all the packages that are installed` - this is OK, the packages are still installed and compatible for this codelab.\n",
    "\n",
    "You do not neeed to restart the kernel."
   ]
  },
  {
   "cell_type": "markdown",
   "id": "eab73fcb",
   "metadata": {
    "id": "GecNc73VGfpk",
    "papermill": {
     "duration": 0.006684,
     "end_time": "2025-02-19T15:48:48.864853",
     "exception": false,
     "start_time": "2025-02-19T15:48:48.858169",
     "status": "completed"
    },
    "tags": []
   },
   "source": [
    "### Set up your API key\n",
    "\n",
    "The `GOOGLE_API_KEY` environment variable can be set to automatically configure the underlying API. This works for both the official Gemini Python SDK and for LangChain/LangGraph. \n",
    "\n",
    "To run the following cell, your API key must be stored it in a [Kaggle secret](https://www.kaggle.com/discussions/product-feedback/114053) named `GOOGLE_API_KEY`.\n",
    "\n",
    "If you don't already have an API key, you can grab one from [AI Studio](https://aistudio.google.com/app/apikey). You can find [detailed instructions in the docs](https://ai.google.dev/gemini-api/docs/api-key).\n",
    "\n",
    "To make the key available through Kaggle secrets, choose `Secrets` from the `Add-ons` menu and follow the instructions to add your key or enable it for this notebook."
   ]
  },
  {
   "cell_type": "code",
   "execution_count": 3,
   "id": "ddc78051",
   "metadata": {
    "execution": {
     "iopub.execute_input": "2025-02-19T15:48:48.880424Z",
     "iopub.status.busy": "2025-02-19T15:48:48.880034Z",
     "iopub.status.idle": "2025-02-19T15:48:49.206575Z",
     "shell.execute_reply": "2025-02-19T15:48:49.205331Z"
    },
    "id": "xaiioUQni_ga",
    "papermill": {
     "duration": 0.337464,
     "end_time": "2025-02-19T15:48:49.209253",
     "exception": false,
     "start_time": "2025-02-19T15:48:48.871789",
     "status": "completed"
    },
    "tags": []
   },
   "outputs": [],
   "source": [
    "import os\n",
    "from kaggle_secrets import UserSecretsClient\n",
    "\n",
    "GOOGLE_API_KEY = UserSecretsClient().get_secret(\"GOOGLE_API_KEY\")\n",
    "os.environ[\"GOOGLE_API_KEY\"] = GOOGLE_API_KEY"
   ]
  },
  {
   "attachments": {
    "aaab7989-4eb8-41bc-8406-43ad6a6fb84c.png": {
     "image/png": "[encoded data removed]"
    }
   },
   "cell_type": "markdown",
   "id": "30c06e1f",
   "metadata": {
    "id": "e67a91692d36",
    "papermill": {
     "duration": 0.007244,
     "end_time": "2025-02-19T15:48:49.227050",
     "exception": false,
     "start_time": "2025-02-19T15:48:49.219806",
     "status": "completed"
    },
    "tags": []
   },
   "source": [
    "If you received an error response along the lines of `No user secrets exist for kernel id ...`, then you need to add your API key via `Add-ons`, `Secrets` **and** enable it.\n",
    "\n",
    "![Screenshot of the checkbox to enable GOOGLE_API_KEY secret](https://storage.googleapis.com/kaggle-media/Images/5gdai_sc_3.png)"
   ]
  },
  {
   "cell_type": "markdown",
   "id": "5c58bcac",
   "metadata": {
    "jp-MarkdownHeadingCollapsed": true,
    "papermill": {
     "duration": 0.00696,
     "end_time": "2025-02-19T15:48:49.241353",
     "exception": false,
     "start_time": "2025-02-19T15:48:49.234393",
     "status": "completed"
    },
    "tags": []
   },
   "source": [
    "## Key concepts\n",
    "\n",
    "LangGraph applications are built around a **graph** structure. As the developer, you define an application graph that models the state transitions for your application. Your app will define a **state** schema, and an instance of that schema is propagated through the graph.\n",
    "\n",
    "Each **node** in the graph represents an action or step that can be taken. Nodes will make changes to the state in some way through code that you define. These changes can be the result of invoking an LLM, by calling an API, or executing any logic that the node defines.\n",
    "\n",
    "Each **edge** in the graph represents a transition between states, defining the flow of the program. Edge transitions can be fixed, for example if you define a text-only chatbot where output is always displayed to a user, you may always transition from `chatbot -> user`. The transitions can also be conditional, allowing you to add branching (like an `if-else` statement) or looping (like `for` or `while` loops).\n",
    "\n",
    "LangGraph is highly extensible and provides a number of features that are not part of this tutorial, such as memory, persistance and streaming. To better understand the key concepts and philophies behind LangGraph, check out their [Conceptual guides](https://langchain-ai.github.io/langgraph/concepts/) and [High-level overview](https://langchain-ai.github.io/langgraph/concepts/high_level/)."
   ]
  },
  {
   "cell_type": "markdown",
   "id": "49c200ab",
   "metadata": {
    "id": "IGShelaFLKP0",
    "papermill": {
     "duration": 0.007103,
     "end_time": "2025-02-19T15:48:49.255795",
     "exception": false,
     "start_time": "2025-02-19T15:48:49.248692",
     "status": "completed"
    },
    "tags": []
   },
   "source": [
    "## Define core instructions\n",
    "\n",
    "State is a fundamental concept for a LangGraph app. A state object is passed between every node and transition in the app. Here you define a state object, `OrderState`, that holds the conversation history, a structured order, and a flag indicating if the customer has finished placing their order. For simplicity, the \"structure\" in this order is just a list of strings, but this can be expanded to any Python data structure.\n",
    "\n",
    "In Python, the LangGraph state object is a Python [dictionary](https://docs.python.org/3/library/stdtypes.html#dict). You can provide a schema for this dictionary by defining it as a [`TypedDict`](https://docs.python.org/3/library/typing.html#typing.TypedDict).\n",
    "\n",
    "Here you also define the system instruction that the Gemini model will use. You can capture tone and style here, as well as the playbook under which the chatbot should operate."
   ]
  },
  {
   "cell_type": "code",
   "execution_count": 4,
   "id": "042ffe5a",
   "metadata": {
    "execution": {
     "iopub.execute_input": "2025-02-19T15:48:49.271928Z",
     "iopub.status.busy": "2025-02-19T15:48:49.271579Z",
     "iopub.status.idle": "2025-02-19T15:48:50.405557Z",
     "shell.execute_reply": "2025-02-19T15:48:50.404720Z"
    },
    "id": "2RJQRlfVjqkJ",
    "papermill": {
     "duration": 1.144831,
     "end_time": "2025-02-19T15:48:50.407843",
     "exception": false,
     "start_time": "2025-02-19T15:48:49.263012",
     "status": "completed"
    },
    "tags": []
   },
   "outputs": [],
   "source": [
    "from typing import Annotated\n",
    "from typing_extensions import TypedDict\n",
    "\n",
    "from langgraph.graph.message import add_messages\n",
    "\n",
    "\n",
    "class OrderState(TypedDict):\n",
    "    \"\"\"State representing the customer's order conversation.\"\"\"\n",
    "\n",
    "    # The chat conversation. This preserves the conversation history\n",
    "    # between nodes. The `add_messages` annotation indicates to LangGraph\n",
    "    # that state is updated by appending returned messages, not replacing\n",
    "    # them.\n",
    "    messages: Annotated[list, add_messages]\n",
    "\n",
    "    # The customer's in-progress order.\n",
    "    order: list[str]\n",
    "\n",
    "    # Flag indicating that the order is placed and completed.\n",
    "    finished: bool\n",
    "\n",
    "\n",
    "# The system instruction defines how the chatbot is expected to behave and includes\n",
    "# rules for when to call different functions, as well as rules for the conversation, such\n",
    "# as tone and what is permitted for discussion.\n",
    "BARISTABOT_SYSINT = (\n",
    "    \"system\",  # 'system' indicates the message is a system instruction.\n",
    "    \"You are a BaristaBot, an interactive cafe ordering system. A human will talk to you about the \"\n",
    "    \"available products you have and you will answer any questions about menu items (and only about \"\n",
    "    \"menu items - no off-topic discussion, but you can chat about the products and their history). \"\n",
    "    \"The customer will place an order for 1 or more items from the menu, which you will structure \"\n",
    "    \"and send to the ordering system after confirming the order with the human. \"\n",
    "    \"\\n\\n\"\n",
    "    \"Add items to the customer's order with add_to_order, and reset the order with clear_order. \"\n",
    "    \"To see the contents of the order so far, call get_order (this is shown to you, not the user) \"\n",
    "    \"Always confirm_order with the user (double-check) before calling place_order. Calling confirm_order will \"\n",
    "    \"display the order items to the user and returns their response to seeing the list. Their response may contain modifications. \"\n",
    "    \"Always verify and respond with drink and modifier names from the MENU before adding them to the order. \"\n",
    "    \"If you are unsure a drink or modifier matches those on the MENU, ask a question to clarify or redirect. \"\n",
    "    \"You only have the modifiers listed on the menu. \"\n",
    "    \"Once the customer has finished ordering items, Call confirm_order to ensure it is correct then make \"\n",
    "    \"any necessary updates and then call place_order. Once place_order has returned, thank the user and \"\n",
    "    \"say goodbye!\",\n",
    ")\n",
    "\n",
    "# This is the message with which the system opens the conversation.\n",
    "WELCOME_MSG = \"Welcome to the BaristaBot cafe. Type `q` to quit. How may I serve you today?\""
   ]
  },
  {
   "cell_type": "markdown",
   "id": "d9211921",
   "metadata": {
    "id": "PHkDsSI_NUp7",
    "papermill": {
     "duration": 0.006945,
     "end_time": "2025-02-19T15:48:50.422131",
     "exception": false,
     "start_time": "2025-02-19T15:48:50.415186",
     "status": "completed"
    },
    "tags": []
   },
   "source": [
    "## Define a single turn chatboot\n",
    "\n",
    "To illustrate how LangGraph works, the following program defines a chatbot node that will execute a single turn in a chat conversation using the instructions supplied.\n",
    "\n",
    "Each node in the graph operates on the state object. The state (a Python dictionary) is passed as a parameter into the node (a function) and the new state is returned. This can be restated as pseudo-code, where `state = node(state)`.\n",
    "\n",
    "Note: For the `chatbot` node, the state is updated by *adding* the new conversation message. The `add_messages` annotation on `OrderState.messages` indicates that messages are *appended* when returned from a node. Typically state is updated by replacement, but this annotation causes `messages` to behave differently."
   ]
  },
  {
   "cell_type": "code",
   "execution_count": 5,
   "id": "0f51a2cd",
   "metadata": {
    "execution": {
     "iopub.execute_input": "2025-02-19T15:48:50.438047Z",
     "iopub.status.busy": "2025-02-19T15:48:50.437232Z",
     "iopub.status.idle": "2025-02-19T15:48:51.776249Z",
     "shell.execute_reply": "2025-02-19T15:48:51.775232Z"
    },
    "id": "Y359hoepjv6i",
    "papermill": {
     "duration": 1.349406,
     "end_time": "2025-02-19T15:48:51.778561",
     "exception": false,
     "start_time": "2025-02-19T15:48:50.429155",
     "status": "completed"
    },
    "tags": []
   },
   "outputs": [],
   "source": [
    "from langgraph.graph import StateGraph, START, END\n",
    "from langchain_google_genai import ChatGoogleGenerativeAI\n",
    "\n",
    "# Try using different models. The `pro` models perform the best, especially\n",
    "# with tool-calling. The `flash` models are super fast, and are a good choice\n",
    "# if you need to use the higher free-tier quota.\n",
    "# Check out the features and quota differences here: https://ai.google.dev/pricing\n",
    "llm = ChatGoogleGenerativeAI(model=\"gemini-1.5-flash-latest\")\n",
    "\n",
    "\n",
    "def chatbot(state: OrderState) -> OrderState:\n",
    "    \"\"\"The chatbot itself. A simple wrapper around the model's own chat interface.\"\"\"\n",
    "    message_history = [BARISTABOT_SYSINT] + state[\"messages\"]\n",
    "    return {\"messages\": [llm.invoke(message_history)]}\n",
    "\n",
    "\n",
    "# Set up the initial graph based on our state definition.\n",
    "graph_builder = StateGraph(OrderState)\n",
    "\n",
    "# Add the chatbot function to the app graph as a node called \"chatbot\".\n",
    "graph_builder.add_node(\"chatbot\", chatbot)\n",
    "\n",
    "# Define the chatbot node as the app entrypoint.\n",
    "graph_builder.add_edge(START, \"chatbot\")\n",
    "\n",
    "chat_graph = graph_builder.compile()"
   ]
  },
  {
   "cell_type": "markdown",
   "id": "e3e8ce0d",
   "metadata": {
    "id": "T796a7eMJIjB",
    "papermill": {
     "duration": 0.007002,
     "end_time": "2025-02-19T15:48:51.792906",
     "exception": false,
     "start_time": "2025-02-19T15:48:51.785904",
     "status": "completed"
    },
    "tags": []
   },
   "source": [
    "It can be helpful to visualise the graph you just defined. The following code renders the graph."
   ]
  },
  {
   "cell_type": "code",
   "execution_count": 6,
   "id": "177eb26c",
   "metadata": {
    "execution": {
     "iopub.execute_input": "2025-02-19T15:48:51.809062Z",
     "iopub.status.busy": "2025-02-19T15:48:51.808135Z",
     "iopub.status.idle": "2025-02-19T15:48:52.954240Z",
     "shell.execute_reply": "2025-02-19T15:48:52.953255Z"
    },
    "id": "JP4vPWb1kPhG",
    "papermill": {
     "duration": 1.156442,
     "end_time": "2025-02-19T15:48:52.956350",
     "exception": false,
     "start_time": "2025-02-19T15:48:51.799908",
     "status": "completed"
    },
    "tags": []
   },
   "outputs": [
    {
     "data": {
      "image/png": "[encoded data removed]",
      "text/plain": [
       "<IPython.core.display.Image object>"
      ]
     },
     "execution_count": 6,
     "metadata": {},
     "output_type": "execute_result"
    }
   ],
   "source": [
    "from IPython.display import Image, display\n",
    "\n",
    "Image(chat_graph.get_graph().draw_mermaid_png())"
   ]
  },
  {
   "cell_type": "markdown",
   "id": "334b9d41",
   "metadata": {
    "id": "SZtG6b8vJTSl",
    "papermill": {
     "duration": 0.007102,
     "end_time": "2025-02-19T15:48:52.971110",
     "exception": false,
     "start_time": "2025-02-19T15:48:52.964008",
     "status": "completed"
    },
    "tags": []
   },
   "source": [
    "Now that the graph is defined, you can run it. It only has one node, and one transition into that node, so it will transition from `__start__` to `chatbot`, execute the `chatbot` node, and terminate.\n",
    "\n",
    "To run the graph, you call `invoke` and pass an initial state object. In this case it begins with the user's initial message."
   ]
  },
  {
   "cell_type": "code",
   "execution_count": 7,
   "id": "8f2d94b7",
   "metadata": {
    "execution": {
     "iopub.execute_input": "2025-02-19T15:48:52.987308Z",
     "iopub.status.busy": "2025-02-19T15:48:52.986936Z",
     "iopub.status.idle": "2025-02-19T15:48:54.535750Z",
     "shell.execute_reply": "2025-02-19T15:48:54.534633Z"
    },
    "id": "swkexnSoO3RU",
    "papermill": {
     "duration": 1.559326,
     "end_time": "2025-02-19T15:48:54.537854",
     "exception": false,
     "start_time": "2025-02-19T15:48:52.978528",
     "status": "completed"
    },
    "tags": []
   },
   "outputs": [
    {
     "name": "stdout",
     "output_type": "stream",
     "text": [
      "HumanMessage: Hello, what can you do?\n",
      "AIMessage: Hello! I'm BaristaBot, your friendly cafe ordering system.  I can help you place an order from our menu.  What would you like to know or order?\n",
      "\n"
     ]
    }
   ],
   "source": [
    "from pprint import pprint\n",
    "\n",
    "user_msg = \"Hello, what can you do?\"\n",
    "state = chat_graph.invoke({\"messages\": [user_msg]})\n",
    "\n",
    "# The state object contains lots of information. Uncomment the pprint lines to see it all.\n",
    "# pprint(state)\n",
    "\n",
    "# Note that the final state now has 2 messages. Our HumanMessage, and an additional AIMessage.\n",
    "for msg in state[\"messages\"]:\n",
    "    print(f\"{type(msg).__name__}: {msg.content}\")"
   ]
  },
  {
   "cell_type": "markdown",
   "id": "434bbb5b",
   "metadata": {
    "id": "dsczQNk9PVlJ",
    "papermill": {
     "duration": 0.006941,
     "end_time": "2025-02-19T15:48:54.552226",
     "exception": false,
     "start_time": "2025-02-19T15:48:54.545285",
     "status": "completed"
    },
    "tags": []
   },
   "source": [
    "You could execute this in a Python loop, but for simplicity, manually invoke one more conversational turn. This second invocation takes the state from the first call and appends another user message to elicit another response from the chatbot."
   ]
  },
  {
   "cell_type": "code",
   "execution_count": 8,
   "id": "611e01bf",
   "metadata": {
    "execution": {
     "iopub.execute_input": "2025-02-19T15:48:54.568431Z",
     "iopub.status.busy": "2025-02-19T15:48:54.568005Z",
     "iopub.status.idle": "2025-02-19T15:48:55.306360Z",
     "shell.execute_reply": "2025-02-19T15:48:55.305274Z"
    },
    "id": "OKGonO42Pe43",
    "papermill": {
     "duration": 0.749348,
     "end_time": "2025-02-19T15:48:55.308805",
     "exception": false,
     "start_time": "2025-02-19T15:48:54.559457",
     "status": "completed"
    },
    "tags": []
   },
   "outputs": [
    {
     "name": "stdout",
     "output_type": "stream",
     "text": [
      "HumanMessage: Hello, what can you do?\n",
      "AIMessage: Hello! I'm BaristaBot, your friendly cafe ordering system.  I can help you place an order from our menu.  What would you like to know or order?\n",
      "\n",
      "HumanMessage: Oh great, what kinds of latte can you make?\n",
      "AIMessage: We offer a variety of delicious lattes!  We have our classic Latte, a Caramel Latte, a Vanilla Latte, and a Mocha Latte.  Do any of those sound good to you?\n",
      "\n"
     ]
    }
   ],
   "source": [
    "user_msg = \"Oh great, what kinds of latte can you make?\"\n",
    "\n",
    "state[\"messages\"].append(user_msg)\n",
    "state = chat_graph.invoke(state)\n",
    "\n",
    "# pprint(state)\n",
    "for msg in state[\"messages\"]:\n",
    "    print(f\"{type(msg).__name__}: {msg.content}\")"
   ]
  },
  {
   "cell_type": "markdown",
   "id": "d5cc499e",
   "metadata": {
    "id": "v4oN47R89Rx-",
    "papermill": {
     "duration": 0.007645,
     "end_time": "2025-02-19T15:48:55.324711",
     "exception": false,
     "start_time": "2025-02-19T15:48:55.317066",
     "status": "completed"
    },
    "tags": []
   },
   "source": [
    "## Add a human node\n",
    "\n",
    "Instead of repeatedly running the \"graph\" in a Python loop, you can use LangGraph to loop between nodes.\n",
    "\n",
    "The `human` node will display the last message from the LLM to the user, and then prompt them for their next input. Here this is done using standard Python `print` and `input` functions, but for a real cafe situation, you could render the chat to a display or audio, and accept input from a mic or on-screen keyboard.\n",
    "\n",
    "The `chatbot` node function has also been updated to include the welcome message to start the conversation."
   ]
  },
  {
   "cell_type": "code",
   "execution_count": 9,
   "id": "10ef5da3",
   "metadata": {
    "execution": {
     "iopub.execute_input": "2025-02-19T15:48:55.341864Z",
     "iopub.status.busy": "2025-02-19T15:48:55.341484Z",
     "iopub.status.idle": "2025-02-19T15:48:55.351085Z",
     "shell.execute_reply": "2025-02-19T15:48:55.350120Z"
    },
    "id": "UtOpn68ospVj",
    "papermill": {
     "duration": 0.020472,
     "end_time": "2025-02-19T15:48:55.353063",
     "exception": false,
     "start_time": "2025-02-19T15:48:55.332591",
     "status": "completed"
    },
    "tags": []
   },
   "outputs": [],
   "source": [
    "from langchain_core.messages.ai import AIMessage\n",
    "\n",
    "\n",
    "def human_node(state: OrderState) -> OrderState:\n",
    "    \"\"\"Display the last model message to the user, and receive the user's input.\"\"\"\n",
    "    last_msg = state[\"messages\"][-1]\n",
    "    print(\"Model:\", last_msg.content)\n",
    "\n",
    "    user_input = input(\"User: \")\n",
    "\n",
    "    # If it looks like the user is trying to quit, flag the conversation\n",
    "    # as over.\n",
    "    if user_input in {\"q\", \"quit\", \"exit\", \"goodbye\"}:\n",
    "        state[\"finished\"] = True\n",
    "\n",
    "    return state | {\"messages\": [(\"user\", user_input)]}\n",
    "\n",
    "\n",
    "def chatbot_with_welcome_msg(state: OrderState) -> OrderState:\n",
    "    \"\"\"The chatbot itself. A wrapper around the model's own chat interface.\"\"\"\n",
    "\n",
    "    if state[\"messages\"]:\n",
    "        # If there are messages, continue the conversation with the Gemini model.\n",
    "        new_output = llm.invoke([BARISTABOT_SYSINT] + state[\"messages\"])\n",
    "    else:\n",
    "        # If there are no messages, start with the welcome message.\n",
    "        new_output = AIMessage(content=WELCOME_MSG)\n",
    "\n",
    "    return state | {\"messages\": [new_output]}\n",
    "\n",
    "\n",
    "# Start building a new graph.\n",
    "graph_builder = StateGraph(OrderState)\n",
    "\n",
    "# Add the chatbot and human nodes to the app graph.\n",
    "graph_builder.add_node(\"chatbot\", chatbot_with_welcome_msg)\n",
    "graph_builder.add_node(\"human\", human_node)\n",
    "\n",
    "# Start with the chatbot again.\n",
    "graph_builder.add_edge(START, \"chatbot\")\n",
    "\n",
    "# The chatbot will always go to the human next.\n",
    "graph_builder.add_edge(\"chatbot\", \"human\");"
   ]
  },
  {
   "cell_type": "markdown",
   "id": "658d874c",
   "metadata": {
    "id": "SWXwd1ITUSPF",
    "papermill": {
     "duration": 0.007356,
     "end_time": "2025-02-19T15:48:55.368225",
     "exception": false,
     "start_time": "2025-02-19T15:48:55.360869",
     "status": "completed"
    },
    "tags": []
   },
   "source": [
    "Before you can run this, note that if you added an edge from `human` back to `chatbot`, the graph will cycle forever as there is no exit condition. One way to break the cycle is to add a check for a human input like `q` or `quit` and use that to break the loop.\n",
    "\n",
    "In LangGraph, this is achieved with a conditional edge. This is similar to a regular graph transition, except a custom function is called to determine which edge to traverse.\n",
    "\n",
    "Conditional edge functions take the state as input, and return a string representing the name of the node to which it will transition."
   ]
  },
  {
   "cell_type": "code",
   "execution_count": 10,
   "id": "d2cb4ace",
   "metadata": {
    "execution": {
     "iopub.execute_input": "2025-02-19T15:48:55.385198Z",
     "iopub.status.busy": "2025-02-19T15:48:55.384765Z",
     "iopub.status.idle": "2025-02-19T15:48:56.480678Z",
     "shell.execute_reply": "2025-02-19T15:48:56.479719Z"
    },
    "id": "6468OAgSU2He",
    "papermill": {
     "duration": 1.106762,
     "end_time": "2025-02-19T15:48:56.482668",
     "exception": false,
     "start_time": "2025-02-19T15:48:55.375906",
     "status": "completed"
    },
    "tags": []
   },
   "outputs": [
    {
     "data": {
      "image/png": "[encoded data removed]",
      "text/plain": [
       "<IPython.core.display.Image object>"
      ]
     },
     "execution_count": 10,
     "metadata": {},
     "output_type": "execute_result"
    }
   ],
   "source": [
    "from typing import Literal\n",
    "\n",
    "\n",
    "def maybe_exit_human_node(state: OrderState) -> Literal[\"chatbot\", \"__end__\"]:\n",
    "    \"\"\"Route to the chatbot, unless it looks like the user is exiting.\"\"\"\n",
    "    if state.get(\"finished\", False):\n",
    "        return END\n",
    "    else:\n",
    "        return \"chatbot\"\n",
    "\n",
    "\n",
    "graph_builder.add_conditional_edges(\"human\", maybe_exit_human_node)\n",
    "\n",
    "chat_with_human_graph = graph_builder.compile()\n",
    "\n",
    "Image(chat_with_human_graph.get_graph().draw_mermaid_png())"
   ]
  },
  {
   "cell_type": "markdown",
   "id": "80b7c9d7",
   "metadata": {
    "id": "yrQI6-3FS_op",
    "papermill": {
     "duration": 0.007339,
     "end_time": "2025-02-19T15:48:56.497836",
     "exception": false,
     "start_time": "2025-02-19T15:48:56.490497",
     "status": "completed"
    },
    "tags": []
   },
   "source": [
    "Run this new graph to see how the interaction loop is now captured within the graph. Input `quit` to exit the program.\n",
    "\n",
    "**You must uncomment the `.invoke(...)` line to run this step.**"
   ]
  },
  {
   "cell_type": "code",
   "execution_count": 11,
   "id": "ae809d64",
   "metadata": {
    "execution": {
     "iopub.execute_input": "2025-02-19T15:48:56.515149Z",
     "iopub.status.busy": "2025-02-19T15:48:56.514788Z",
     "iopub.status.idle": "2025-02-19T15:48:56.520727Z",
     "shell.execute_reply": "2025-02-19T15:48:56.519581Z"
    },
    "id": "udGNmyasTGJG",
    "papermill": {
     "duration": 0.016552,
     "end_time": "2025-02-19T15:48:56.522268",
     "exception": true,
     "start_time": "2025-02-19T15:48:56.505716",
     "status": "failed"
    },
    "tags": []
   },
   "outputs": [
    {
     "ename": "IndentationError",
     "evalue": "unexpected indent (2558656381.py, line 4)",
     "output_type": "error",
     "traceback": [
      "\u001b[0;36m  Cell \u001b[0;32mIn[11], line 4\u001b[0;36m\u001b[0m\n\u001b[0;31m    state = chat_with_human_graph.invoke({\"messages\": []})\u001b[0m\n\u001b[0m    ^\u001b[0m\n\u001b[0;31mIndentationError\u001b[0m\u001b[0;31m:\u001b[0m unexpected indent\n"
     ]
    }
   ],
   "source": [
    "# Remember that this will loop forever, unless you input `q`, `quit` or one of the\n",
    "# other exit terms defined in `human_node`.\n",
    "# Uncomment this line to execute the graph:\n",
    " state = chat_with_human_graph.invoke({\"messages\": []})\n",
    "\n",
    "# Things to try:\n",
    "#  - Just chat! There's no ordering or menu yet.\n",
    "#  - 'q' to exit.\n",
    "\n",
    "# pprint(state)"
   ]
  },
  {
   "cell_type": "markdown",
   "id": "e55fd2e8",
   "metadata": {
    "id": "iwDFpJreW66e",
    "papermill": {
     "duration": null,
     "end_time": null,
     "exception": null,
     "start_time": null,
     "status": "pending"
    },
    "tags": []
   },
   "source": [
    "## Add a \"live\" menu\n",
    "\n",
    "BaristaBot currently has no awareness of the available items at the cafe, so it will hallucinate a menu. One option would be to hard-code a menu into the system prompt. This would work well, but to simulate a system where the menu is more dynamic and could respond to fluctuating stock levels, you will put the menu into a custom tool.\n",
    "\n",
    "There are two types of tools that this system will use. Stateless tools that can be run automatically, and stateful tools that modify the order. The \"get current menu\" tool is stateless, in that it does not make any changes to the live order, so it can be called automatically.\n",
    "\n",
    "In a LangGraph app, you can annotate Python functions as tools by applying the `@tools` annotation.\n",
    "\n"
   ]
  },
  {
   "cell_type": "code",
   "execution_count": null,
   "id": "bbb7a366",
   "metadata": {
    "execution": {
     "iopub.execute_input": "2024-11-13T23:34:05.437128Z",
     "iopub.status.busy": "2024-11-13T23:34:05.436628Z",
     "iopub.status.idle": "2024-11-13T23:34:05.450657Z",
     "shell.execute_reply": "2024-11-13T23:34:05.449350Z",
     "shell.execute_reply.started": "2024-11-13T23:34:05.437081Z"
    },
    "id": "hG1n6mNFHsYW",
    "papermill": {
     "duration": null,
     "end_time": null,
     "exception": null,
     "start_time": null,
     "status": "pending"
    },
    "tags": []
   },
   "outputs": [],
   "source": [
    "from langchain_core.tools import tool\n",
    "\n",
    "\n",
    "@tool\n",
    "def get_menu() -> str:\n",
    "    \"\"\"Provide the latest up-to-date menu.\"\"\"\n",
    "    # Note that this is just hard-coded text, but you could connect this to a live stock\n",
    "    # database, or you could use Gemini's multi-modal capabilities and take live photos of\n",
    "    # your cafe's chalk menu or the products on the counter and assmble them into an input.\n",
    "\n",
    "    return \"\"\"\n",
    "    MENU:\n",
    "    Coffee Drinks:\n",
    "    Espresso\n",
    "    Americano\n",
    "    Cold Brew\n",
    "\n",
    "    Coffee Drinks with Milk:\n",
    "    Latte\n",
    "    Cappuccino\n",
    "    Cortado\n",
    "    Macchiato\n",
    "    Mocha\n",
    "    Flat White\n",
    "\n",
    "    Tea Drinks:\n",
    "    English Breakfast Tea\n",
    "    Green Tea\n",
    "    Earl Grey\n",
    "\n",
    "    Tea Drinks with Milk:\n",
    "    Chai Latte\n",
    "    Matcha Latte\n",
    "    London Fog\n",
    "\n",
    "    Other Drinks:\n",
    "    Steamer\n",
    "    Hot Chocolate\n",
    "\n",
    "    Modifiers:\n",
    "    Milk options: Whole, 2%, Oat, Almond, 2% Lactose Free; Default option: whole\n",
    "    Espresso shots: Single, Double, Triple, Quadruple; default: Double\n",
    "    Caffeine: Decaf, Regular; default: Regular\n",
    "    Hot-Iced: Hot, Iced; Default: Hot\n",
    "    Sweeteners (option to add one or more): vanilla sweetener, hazelnut sweetener, caramel sauce, chocolate sauce, sugar free vanilla sweetener\n",
    "    Special requests: any reasonable modification that does not involve items not on the menu, for example: 'extra hot', 'one pump', 'half caff', 'extra foam', etc.\n",
    "\n",
    "    \"dirty\" means add a shot of espresso to a drink that doesn't usually have it, like \"Dirty Chai Latte\".\n",
    "    \"Regular milk\" is the same as 'whole milk'.\n",
    "    \"Sweetened\" means add some regular sugar, not a sweetener.\n",
    "\n",
    "    Soy milk has run out of stock today, so soy is not available.\n",
    "  \"\"\""
   ]
  },
  {
   "cell_type": "markdown",
   "id": "a35d0e04",
   "metadata": {
    "id": "W82wDfAH-RMU",
    "papermill": {
     "duration": null,
     "end_time": null,
     "exception": null,
     "start_time": null,
     "status": "pending"
    },
    "tags": []
   },
   "source": [
    "Now add the new tool to the graph. The `get_menu` tool is wrapped in a [`ToolNode`](https://langchain-ai.github.io/langgraph/reference/prebuilt/#toolnode) that handles calling the tool and passing the response as a message through the graph. The tools are also bound to the `llm` object so that the underlying model knows they exist. As you now have a different `llm` object to invoke, you need to update the `chatbot` node so that it is aware of the tools.\n"
   ]
  },
  {
   "cell_type": "code",
   "execution_count": null,
   "id": "c4d96454",
   "metadata": {
    "execution": {
     "iopub.execute_input": "2024-11-13T23:34:09.450271Z",
     "iopub.status.busy": "2024-11-13T23:34:09.449824Z",
     "iopub.status.idle": "2024-11-13T23:34:09.765202Z",
     "shell.execute_reply": "2024-11-13T23:34:09.763999Z",
     "shell.execute_reply.started": "2024-11-13T23:34:09.450228Z"
    },
    "id": "KJVZGC2TlKqj",
    "papermill": {
     "duration": null,
     "end_time": null,
     "exception": null,
     "start_time": null,
     "status": "pending"
    },
    "tags": []
   },
   "outputs": [],
   "source": [
    "from langgraph.prebuilt import ToolNode\n",
    "\n",
    "\n",
    "# Define the tools and create a \"tools\" node.\n",
    "tools = [get_menu]\n",
    "tool_node = ToolNode(tools)\n",
    "\n",
    "# Attach the tools to the model so that it knows what it can call.\n",
    "llm_with_tools = llm.bind_tools(tools)\n",
    "\n",
    "\n",
    "def maybe_route_to_tools(state: OrderState) -> Literal[\"tools\", \"human\"]:\n",
    "    \"\"\"Route between human or tool nodes, depending if a tool call is made.\"\"\"\n",
    "    if not (msgs := state.get(\"messages\", [])):\n",
    "        raise ValueError(f\"No messages found when parsing state: {state}\")\n",
    "\n",
    "    # Only route based on the last message.\n",
    "    msg = msgs[-1]\n",
    "\n",
    "    # When the chatbot returns tool_calls, route to the \"tools\" node.\n",
    "    if hasattr(msg, \"tool_calls\") and len(msg.tool_calls) > 0:\n",
    "        return \"tools\"\n",
    "    else:\n",
    "        return \"human\"\n",
    "\n",
    "\n",
    "def chatbot_with_tools(state: OrderState) -> OrderState:\n",
    "    \"\"\"The chatbot with tools. A simple wrapper around the model's own chat interface.\"\"\"\n",
    "    defaults = {\"order\": [], \"finished\": False}\n",
    "\n",
    "    if state[\"messages\"]:\n",
    "        new_output = llm_with_tools.invoke([BARISTABOT_SYSINT] + state[\"messages\"])\n",
    "    else:\n",
    "        new_output = AIMessage(content=WELCOME_MSG)\n",
    "\n",
    "    # Set up some defaults if not already set, then pass through the provided state,\n",
    "    # overriding only the \"messages\" field.\n",
    "    return defaults | state | {\"messages\": [new_output]}\n",
    "\n",
    "\n",
    "graph_builder = StateGraph(OrderState)\n",
    "\n",
    "# Add the nodes, including the new tool_node.\n",
    "graph_builder.add_node(\"chatbot\", chatbot_with_tools)\n",
    "graph_builder.add_node(\"human\", human_node)\n",
    "graph_builder.add_node(\"tools\", tool_node)\n",
    "\n",
    "# Chatbot may go to tools, or human.\n",
    "graph_builder.add_conditional_edges(\"chatbot\", maybe_route_to_tools)\n",
    "# Human may go back to chatbot, or exit.\n",
    "graph_builder.add_conditional_edges(\"human\", maybe_exit_human_node)\n",
    "\n",
    "# Tools always route back to chat afterwards.\n",
    "graph_builder.add_edge(\"tools\", \"chatbot\")\n",
    "\n",
    "graph_builder.add_edge(START, \"chatbot\")\n",
    "graph_with_menu = graph_builder.compile()\n",
    "\n",
    "Image(graph_with_menu.get_graph().draw_mermaid_png())"
   ]
  },
  {
   "cell_type": "markdown",
   "id": "3acac9f7",
   "metadata": {
    "id": "kbFdxxWdauzz",
    "papermill": {
     "duration": null,
     "end_time": null,
     "exception": null,
     "start_time": null,
     "status": "pending"
    },
    "tags": []
   },
   "source": [
    "Now run the new graph to see how the model uses the menu.\n",
    "\n",
    "**You must uncomment the `.invoke(...)` line to run this step.**"
   ]
  },
  {
   "cell_type": "code",
   "execution_count": null,
   "id": "6cf66334",
   "metadata": {
    "execution": {
     "iopub.execute_input": "2024-11-13T23:34:30.675677Z",
     "iopub.status.busy": "2024-11-13T23:34:30.674706Z",
     "iopub.status.idle": "2024-11-13T23:35:49.559147Z",
     "shell.execute_reply": "2024-11-13T23:35:49.557943Z",
     "shell.execute_reply.started": "2024-11-13T23:34:30.675630Z"
    },
    "id": "wcsVkMAApBGu",
    "papermill": {
     "duration": null,
     "end_time": null,
     "exception": null,
     "start_time": null,
     "status": "pending"
    },
    "tags": []
   },
   "outputs": [],
   "source": [
    "# Remember that you have not implemented ordering yet, so this will loop forever,\n",
    "# unless you input `q`, `quit` or one of the other exit terms defined in the\n",
    "# `human_node`.\n",
    "# Uncomment this line to execute the graph:\n",
    "state = graph_with_menu.invoke({\"messages\": []})\n",
    "\n",
    "# Things to try:\n",
    "# - I'd love an espresso drink, what have you got?\n",
    "# - What teas do you have?\n",
    "# - Can you do a long black? (this is on the menu as an \"Americano\" - see if it can figure it out)\n",
    "# - 'q' to exit.\n",
    "\n",
    "\n",
    "# pprint(state)"
   ]
  },
  {
   "cell_type": "markdown",
   "id": "92cc7eb2",
   "metadata": {
    "id": "ikO4M2fZDkyx",
    "papermill": {
     "duration": null,
     "end_time": null,
     "exception": null,
     "start_time": null,
     "status": "pending"
    },
    "tags": []
   },
   "source": [
    "## Handle orders\n",
    "\n",
    "To build up an order during the chat conversation, you will need to update the state to track the order, and provide simple tools that update this state. These need to be explicit as the model should not directly have access to the apps internal state, or it risks being manipulated arbitrarily.\n",
    "\n",
    "The ordering tools will be added as stubs in a separate node so that you can edit the state directly. Using the `@tool` annotation is still a handy way to define their schema, so the ordering tools below are implemented as empty Python functions."
   ]
  },
  {
   "cell_type": "code",
   "execution_count": null,
   "id": "de2b8ceb",
   "metadata": {
    "execution": {
     "iopub.execute_input": "2024-11-13T23:36:04.609256Z",
     "iopub.status.busy": "2024-11-13T23:36:04.608805Z",
     "iopub.status.idle": "2024-11-13T23:36:04.773997Z",
     "shell.execute_reply": "2024-11-13T23:36:04.772715Z",
     "shell.execute_reply.started": "2024-11-13T23:36:04.609215Z"
    },
    "id": "jqsLovPBQe0I",
    "papermill": {
     "duration": null,
     "end_time": null,
     "exception": null,
     "start_time": null,
     "status": "pending"
    },
    "tags": []
   },
   "outputs": [],
   "source": [
    "from collections.abc import Iterable\n",
    "from random import randint\n",
    "\n",
    "from langgraph.prebuilt import InjectedState\n",
    "from langchain_core.messages.tool import ToolMessage\n",
    "\n",
    "# These functions have no body; LangGraph does not allow @tools to update\n",
    "# the conversation state, so you will implement a separate node to handle\n",
    "# state updates. Using @tools is still very convenient for defining the tool\n",
    "# schema, so empty functions have been defined that will be bound to the LLM\n",
    "# but their implementation is deferred to the order_node.\n",
    "\n",
    "\n",
    "@tool\n",
    "def add_to_order(drink: str, modifiers: Iterable[str]) -> str:\n",
    "    \"\"\"Adds the specified drink to the customer's order, including any modifiers.\n",
    "\n",
    "    Returns:\n",
    "      The updated order in progress.\n",
    "    \"\"\"\n",
    "\n",
    "\n",
    "@tool\n",
    "def confirm_order() -> str:\n",
    "    \"\"\"Asks the customer if the order is correct.\n",
    "\n",
    "    Returns:\n",
    "      The user's free-text response.\n",
    "    \"\"\"\n",
    "\n",
    "\n",
    "@tool\n",
    "def get_order() -> str:\n",
    "    \"\"\"Returns the users order so far. One item per line.\"\"\"\n",
    "\n",
    "\n",
    "@tool\n",
    "def clear_order():\n",
    "    \"\"\"Removes all items from the user's order.\"\"\"\n",
    "\n",
    "\n",
    "@tool\n",
    "def place_order() -> int:\n",
    "    \"\"\"Sends the order to the barista for fulfillment.\n",
    "\n",
    "    Returns:\n",
    "      The estimated number of minutes until the order is ready.\n",
    "    \"\"\"\n",
    "\n",
    "\n",
    "def order_node(state: OrderState) -> OrderState:\n",
    "    \"\"\"The ordering node. This is where the order state is manipulated.\"\"\"\n",
    "    tool_msg = state.get(\"messages\", [])[-1]\n",
    "    order = state.get(\"order\", [])\n",
    "    outbound_msgs = []\n",
    "    order_placed = False\n",
    "\n",
    "    for tool_call in tool_msg.tool_calls:\n",
    "\n",
    "        if tool_call[\"name\"] == \"add_to_order\":\n",
    "\n",
    "            # Each order item is just a string. This is where it assembled as \"drink (modifiers, ...)\".\n",
    "            modifiers = tool_call[\"args\"][\"modifiers\"]\n",
    "            modifier_str = \", \".join(modifiers) if modifiers else \"no modifiers\"\n",
    "\n",
    "            order.append(f'{tool_call[\"args\"][\"drink\"]} ({modifier_str})')\n",
    "            response = \"\\n\".join(order)\n",
    "\n",
    "        elif tool_call[\"name\"] == \"confirm_order\":\n",
    "\n",
    "            # We could entrust the LLM to do order confirmation, but it is a good practice to\n",
    "            # show the user the exact data that comprises their order so that what they confirm\n",
    "            # precisely matches the order that goes to the kitchen - avoiding hallucination\n",
    "            # or reality skew.\n",
    "\n",
    "            # In a real scenario, this is where you would connect your POS screen to show the\n",
    "            # order to the user.\n",
    "\n",
    "            print(\"Your order:\")\n",
    "            if not order:\n",
    "                print(\"  (no items)\")\n",
    "\n",
    "            for drink in order:\n",
    "                print(f\"  {drink}\")\n",
    "\n",
    "            response = input(\"Is this correct? \")\n",
    "\n",
    "        elif tool_call[\"name\"] == \"get_order\":\n",
    "\n",
    "            response = \"\\n\".join(order) if order else \"(no order)\"\n",
    "\n",
    "        elif tool_call[\"name\"] == \"clear_order\":\n",
    "\n",
    "            order.clear()\n",
    "            response = None\n",
    "\n",
    "        elif tool_call[\"name\"] == \"place_order\":\n",
    "\n",
    "            order_text = \"\\n\".join(order)\n",
    "            print(\"Sending order to kitchen!\")\n",
    "            print(order_text)\n",
    "\n",
    "            # TODO(you!): Implement cafe.\n",
    "            order_placed = True\n",
    "            response = randint(1, 5)  # ETA in minutes\n",
    "\n",
    "        else:\n",
    "            raise NotImplementedError(f'Unknown tool call: {tool_call[\"name\"]}')\n",
    "\n",
    "        # Record the tool results as tool messages.\n",
    "        outbound_msgs.append(\n",
    "            ToolMessage(\n",
    "                content=response,\n",
    "                name=tool_call[\"name\"],\n",
    "                tool_call_id=tool_call[\"id\"],\n",
    "            )\n",
    "        )\n",
    "\n",
    "    return {\"messages\": outbound_msgs, \"order\": order, \"finished\": order_placed}\n",
    "\n",
    "\n",
    "def maybe_route_to_tools(state: OrderState) -> str:\n",
    "    \"\"\"Route between chat and tool nodes if a tool call is made.\"\"\"\n",
    "    if not (msgs := state.get(\"messages\", [])):\n",
    "        raise ValueError(f\"No messages found when parsing state: {state}\")\n",
    "\n",
    "    msg = msgs[-1]\n",
    "\n",
    "    if state.get(\"finished\", False):\n",
    "        # When an order is placed, exit the app. The system instruction indicates\n",
    "        # that the chatbot should say thanks and goodbye at this point, so we can exit\n",
    "        # cleanly.\n",
    "        return END\n",
    "\n",
    "    elif hasattr(msg, \"tool_calls\") and len(msg.tool_calls) > 0:\n",
    "        # Route to `tools` node for any automated tool calls first.\n",
    "        if any(\n",
    "            tool[\"name\"] in tool_node.tools_by_name.keys() for tool in msg.tool_calls\n",
    "        ):\n",
    "            return \"tools\"\n",
    "        else:\n",
    "            return \"ordering\"\n",
    "\n",
    "    else:\n",
    "        return \"human\""
   ]
  },
  {
   "cell_type": "markdown",
   "id": "7ffc0c03",
   "metadata": {
    "id": "UzfKW3lkxtS_",
    "papermill": {
     "duration": null,
     "end_time": null,
     "exception": null,
     "start_time": null,
     "status": "pending"
    },
    "tags": []
   },
   "source": [
    "Now define the graph. The LLM needs to know about the tools too, so that it can invoke them. Here you set up 2 sets of tools corresponding to the nodes under which they operate: automated and ordering."
   ]
  },
  {
   "cell_type": "code",
   "execution_count": null,
   "id": "e6a53647",
   "metadata": {
    "execution": {
     "iopub.execute_input": "2024-11-13T23:36:11.245441Z",
     "iopub.status.busy": "2024-11-13T23:36:11.245024Z",
     "iopub.status.idle": "2024-11-13T23:36:11.361992Z",
     "shell.execute_reply": "2024-11-13T23:36:11.360732Z",
     "shell.execute_reply.started": "2024-11-13T23:36:11.245402Z"
    },
    "id": "9rqkQzlZxrzp",
    "papermill": {
     "duration": null,
     "end_time": null,
     "exception": null,
     "start_time": null,
     "status": "pending"
    },
    "tags": []
   },
   "outputs": [],
   "source": [
    "# Auto-tools will be invoked automatically by the ToolNode\n",
    "auto_tools = [get_menu]\n",
    "tool_node = ToolNode(auto_tools)\n",
    "\n",
    "# Order-tools will be handled by the order node.\n",
    "order_tools = [add_to_order, confirm_order, get_order, clear_order, place_order]\n",
    "\n",
    "# The LLM needs to know about all of the tools, so specify everything here.\n",
    "llm_with_tools = llm.bind_tools(auto_tools + order_tools)\n",
    "\n",
    "\n",
    "graph_builder = StateGraph(OrderState)\n",
    "\n",
    "# Nodes\n",
    "graph_builder.add_node(\"chatbot\", chatbot_with_tools)\n",
    "graph_builder.add_node(\"human\", human_node)\n",
    "graph_builder.add_node(\"tools\", tool_node)\n",
    "graph_builder.add_node(\"ordering\", order_node)\n",
    "\n",
    "# Chatbot -> {ordering, tools, human, END}\n",
    "graph_builder.add_conditional_edges(\"chatbot\", maybe_route_to_tools)\n",
    "# Human -> {chatbot, END}\n",
    "graph_builder.add_conditional_edges(\"human\", maybe_exit_human_node)\n",
    "\n",
    "# Tools (both kinds) always route back to chat afterwards.\n",
    "graph_builder.add_edge(\"tools\", \"chatbot\")\n",
    "graph_builder.add_edge(\"ordering\", \"chatbot\")\n",
    "\n",
    "graph_builder.add_edge(START, \"chatbot\")\n",
    "graph_with_order_tools = graph_builder.compile()\n",
    "\n",
    "Image(graph_with_order_tools.get_graph().draw_mermaid_png())"
   ]
  },
  {
   "cell_type": "markdown",
   "id": "f1523c6e",
   "metadata": {
    "id": "G0SVsDu4gD_T",
    "papermill": {
     "duration": null,
     "end_time": null,
     "exception": null,
     "start_time": null,
     "status": "pending"
    },
    "tags": []
   },
   "source": [
    "Now run the complete ordering system graph.\n",
    "\n",
    "**You must uncomment the `.invoke(...)` line to run this step.**"
   ]
  },
  {
   "cell_type": "code",
   "execution_count": null,
   "id": "de64317c",
   "metadata": {
    "execution": {
     "iopub.execute_input": "2024-11-13T23:36:26.615057Z",
     "iopub.status.busy": "2024-11-13T23:36:26.614575Z",
     "iopub.status.idle": "2024-11-13T23:36:40.258842Z",
     "shell.execute_reply": "2024-11-13T23:36:40.257656Z",
     "shell.execute_reply.started": "2024-11-13T23:36:26.615013Z"
    },
    "id": "NCRSgaBUfIHF",
    "papermill": {
     "duration": null,
     "end_time": null,
     "exception": null,
     "start_time": null,
     "status": "pending"
    },
    "tags": []
   },
   "outputs": [],
   "source": [
    "# The default recursion limit for traversing nodes is 25 - setting it higher\n",
    "# means you can try a more complex order with multiple steps and round-trips.\n",
    "config = {\"recursion_limit\": 100}\n",
    "\n",
    "# Uncomment this line to execute the graph:\n",
    "state = graph_with_order_tools.invoke({\"messages\": []}, config)\n",
    "\n",
    "# Things to try:\n",
    "# - Order a drink!\n",
    "# - Make a change to your order.\n",
    "# - \"Which teas are from England?\"\n",
    "# - Note that the graph should naturally exit after placing an order.\n",
    "\n",
    "# pprint(state)"
   ]
  },
  {
   "cell_type": "markdown",
   "id": "f97336fc",
   "metadata": {
    "id": "8KM4-akgEVSZ",
    "papermill": {
     "duration": null,
     "end_time": null,
     "exception": null,
     "start_time": null,
     "status": "pending"
    },
    "tags": []
   },
   "source": [
    "The order state has been captured both in the `place_order` function and in the final conversational state returned from executing the graph. This iillustrates how you can integrate your own systems to a graph app, as well as collect the final results of executing such an app."
   ]
  },
  {
   "cell_type": "code",
   "execution_count": null,
   "id": "deed137f",
   "metadata": {
    "execution": {
     "iopub.execute_input": "2024-11-13T23:36:56.643238Z",
     "iopub.status.busy": "2024-11-13T23:36:56.642775Z",
     "iopub.status.idle": "2024-11-13T23:36:56.649323Z",
     "shell.execute_reply": "2024-11-13T23:36:56.647922Z",
     "shell.execute_reply.started": "2024-11-13T23:36:56.643193Z"
    },
    "id": "n4jUJCr3fJpy",
    "papermill": {
     "duration": null,
     "end_time": null,
     "exception": null,
     "start_time": null,
     "status": "pending"
    },
    "tags": []
   },
   "outputs": [],
   "source": [
    "# Uncomment this once you have run the graph from the previous cell.\n",
    "pprint(state[\"order\"])"
   ]
  }
 ],
 "metadata": {
  "colab": {
   "name": "day-3-building-an-agent-with-langgraph.ipynb",
   "toc_visible": true
  },
  "kaggle": {
   "accelerator": "none",
   "dataSources": [],
   "dockerImageVersionId": 30786,
   "isGpuEnabled": false,
   "isInternetEnabled": true,
   "language": "python",
   "sourceType": "notebook"
  },
  "kernelspec": {
   "display_name": "Python 3",
   "language": "python",
   "name": "python3"
  },
  "language_info": {
   "codemirror_mode": {
    "name": "ipython",
    "version": 3
   },
   "file_extension": ".py",
   "mimetype": "text/x-python",
   "name": "python",
   "nbconvert_exporter": "python",
   "pygments_lexer": "ipython3",
   "version": "3.10.14"
  },
  "papermill": {
   "default_parameters": {},
   "duration": 25.410314,
   "end_time": "2025-02-19T15:48:57.250358",
   "environment_variables": {},
   "exception": true,
   "input_path": "__notebook__.ipynb",
   "output_path": "__notebook__.ipynb",
   "parameters": {},
   "start_time": "2025-02-19T15:48:31.840044",
   "version": "2.6.0"
  }
 },
 "nbformat": 4,
 "nbformat_minor": 5
}
